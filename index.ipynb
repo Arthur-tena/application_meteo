{
  "cells": [
    {
      "cell_type": "raw",
      "metadata": {},
      "source": [
        "---\n",
        "title: \"Météo Montpellier \"\n",
        "---"
      ],
      "id": "e946412f"
    },
    {
      "cell_type": "markdown",
      "metadata": {},
      "source": [
        "Voici la météo à Montpellier sur les 4 prochains jours.\n",
        "Vous y retrouverez ainsi, la température (max et min de chaque jours), l'humidité (actuelle et moyenne), la vitesse du vent (actuelle et min/max), les précipitation (actuelle et max/moyennes) et l'heure du couché et du levé du soleil.\n",
        "\n",
        "\n",
        "\n",
        "```{html}\n",
        "<iframe src=\"/Users/arthurtena/Documents/application_meteo/meteo.html\" width=\"600\" height=\"400\"></iframe>\n",
        "\n",
        "```"
      ],
      "id": "98518b6a"
    }
  ],
  "metadata": {
    "kernelspec": {
      "name": "python3",
      "language": "python",
      "display_name": "Python 3 (ipykernel)"
    }
  },
  "nbformat": 4,
  "nbformat_minor": 5
}